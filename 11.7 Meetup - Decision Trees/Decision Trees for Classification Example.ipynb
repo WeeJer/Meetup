{
 "cells": [
  {
   "cell_type": "code",
   "execution_count": 1,
   "metadata": {
    "collapsed": true
   },
   "outputs": [],
   "source": [
    "#Import relevant libraries\n",
    "from sklearn.tree import export_graphviz\n",
    "from sklearn.datasets import make_blobs\n",
    "import matplotlib.pyplot as plt\n",
    "import seaborn as sns\n",
    "%matplotlib inline"
   ]
  },
  {
   "cell_type": "code",
   "execution_count": 2,
   "metadata": {},
   "outputs": [
    {
     "data": {
      "image/png": "[encoded data removed]",
      "text/plain": [
       "<matplotlib.figure.Figure at 0x1be0e6dd710>"
      ]
     },
     "metadata": {},
     "output_type": "display_data"
    }
   ],
   "source": [
    "#Generate random data for tree\n",
    "blob_data, blob_labels = make_blobs(n_samples=100,\n",
    "                                    n_features=2,\n",
    "                                    centers=4,\n",
    "                                    cluster_std=.4,\n",
    "                                    random_state=1)\n",
    "\n",
    "#Make data positive for easier reading\n",
    "blob_data[:,0]+=12\n",
    "blob_data[:,1]+=8\n",
    "\n",
    "#Plot Data\n",
    "plt.scatter(blob_data[:,0],\n",
    "            blob_data[:,1], \n",
    "            c = blob_labels,\n",
    "           cmap='viridis_r');"
   ]
  },
  {
   "cell_type": "code",
   "execution_count": 3,
   "metadata": {},
   "outputs": [
    {
     "data": {
      "text/plain": [
       "DecisionTreeClassifier(class_weight=None, criterion='gini', max_depth=3,\n",
       "            max_features=None, max_leaf_nodes=None,\n",
       "            min_impurity_decrease=0.0, min_impurity_split=None,\n",
       "            min_samples_leaf=1, min_samples_split=2,\n",
       "            min_weight_fraction_leaf=0.0, presort=False, random_state=None,\n",
       "            splitter='best')"
      ]
     },
     "execution_count": 3,
     "metadata": {},
     "output_type": "execute_result"
    }
   ],
   "source": [
    "#Import and fit decision tree\n",
    "from sklearn.tree import DecisionTreeClassifier\n",
    "\n",
    "tree = DecisionTreeClassifier(max_depth=3)\n",
    "\n",
    "tree.fit(blob_data,blob_labels)"
   ]
  },
  {
   "cell_type": "code",
   "execution_count": 4,
   "metadata": {
    "collapsed": true
   },
   "outputs": [],
   "source": [
    "#Create decision tree visual\n",
    "export_graphviz(tree,out_file='tree.dot',feature_names=['X','Y'],rounded=True,filled=True,class_names=['Yellow','Green','Blue','Purple'])"
   ]
  },
  {
   "cell_type": "markdown",
   "metadata": {},
   "source": [
    "To create .png file for display, go to the terminal, find the directory of this notebook, and type:<br>\n",
    ">dot -Tpng tree.dot -o tree.png<br><br>\n",
    "\n",
    "To display the graphic in the notebook, create a markdown cell and type:<br>\n",
    ">\\![Example Tree]\\(tree.png \"Blob Tree\")"
   ]
  },
  {
   "cell_type": "markdown",
   "metadata": {},
   "source": [
    "![Example Tree](tree.png \"Blob Tree\")"
   ]
  }
 ],
 "metadata": {
  "kernelspec": {
   "display_name": "Python 3",
   "language": "python",
   "name": "python3"
  },
  "language_info": {
   "codemirror_mode": {
    "name": "ipython",
    "version": 3
   },
   "file_extension": ".py",
   "mimetype": "text/x-python",
   "name": "python",
   "nbconvert_exporter": "python",
   "pygments_lexer": "ipython3",
   "version": "3.6.1"
  }
 },
 "nbformat": 4,
 "nbformat_minor": 2
}
